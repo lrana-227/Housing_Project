{
 "cells": [
  {
   "cell_type": "code",
   "execution_count": null,
   "metadata": {},
   "outputs": [],
   "source": [
    "import pandas as pd\n",
    "import matplotlib.pyplot as plt"
   ]
  },
  {
   "cell_type": "code",
   "execution_count": null,
   "metadata": {},
   "outputs": [],
   "source": []
  },
  {
   "cell_type": "code",
   "execution_count": null,
   "metadata": {},
   "outputs": [],
   "source": [
    "#define variables that will be used int the chart\n",
    "\n",
    "year_list = [\"2010\", \"2011\", \"2012\", \"2013\", \"2014\", \"2015\", \"2016\", \"2017\"]\n",
    "disaster_count_per_yr = user_state[[\"2010 Total\", \"2011 Total\", \"2012 Total\",\"2013 Total\", \"2014 Total\", \"2015 Total\",\"2016 Total\", \"2017 Total\"]]\n",
    "disaster_count_per_yr = disaster_count_per_yr.squeeze()\n",
    "plt.bar(year_list, disaster_count_per_yr)\n",
    "\n",
    "\n",
    "plt.title(f'{user_input} Natrual Disaster Count YoY')\n",
    "plt.xlabel(\"Year\")\n",
    "plt.ylabel(\"Count\")\n",
    "\n",
    "plt.show()\n",
    "disaster_count_per_yr\n",
    "\n"
   ]
  },
  {
   "cell_type": "code",
   "execution_count": null,
   "metadata": {},
   "outputs": [],
   "source": [
    "year_list = [\"2010\", \"2011\", \"2012\", \"2013\", \"2014\", \"2015\", \"2016\", \"2017\"]\n",
    "housing_values = user_state_zillow[[\"2010\", \"2011\", \"2012\", \"2013\", \"2014\", \"2015\", \"2016\", \"2017\"]]\n",
    "housing_values = housing_values.squeeze() #squeeze converts DF back to series\n",
    "housing_values = housing_values/1000\n",
    "plt.plot(year_list, housing_values)\n",
    "\n",
    "plt.title(f'{user_input} Avg Housing Cost YoY')\n",
    "plt.xlabel(\"Year\")\n",
    "plt.ylabel(\"Cost (in thousands)\")\n",
    "\n",
    "plt.show()\n",
    "housing_values"
   ]
  }
 ],
 "metadata": {
  "kernelspec": {
   "display_name": "Python 3",
   "language": "python",
   "name": "python3"
  },
  "language_info": {
   "codemirror_mode": {
    "name": "ipython",
    "version": 3
   },
   "file_extension": ".py",
   "mimetype": "text/x-python",
   "name": "python",
   "nbconvert_exporter": "python",
   "pygments_lexer": "ipython3",
   "version": "3.8.5"
  }
 },
 "nbformat": 4,
 "nbformat_minor": 4
}
