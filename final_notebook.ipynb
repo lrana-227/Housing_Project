{
 "cells": [
  {
   "cell_type": "code",
   "execution_count": 1,
   "metadata": {},
   "outputs": [
    {
     "name": "stdout",
     "output_type": "stream",
     "text": [
      "importing Jupyter notebook from number_disasters_map.ipynb\n",
      "importing Jupyter notebook from natural_disaster_per_state_wo_while.ipynb\n",
      "importing Jupyter notebook from input_file.ipynb\n"
     ]
    }
   ],
   "source": [
    "import os\n",
    "import import_ipynb\n",
    "import matplotlib.pyplot as plt\n",
    "import plotly.graph_objects as go\n",
    "#import ipynb.fs from .full.number_disasters_map\n",
    "\n",
    "from ipynb.fs.full.number_disasters_map import map_chart\n",
    "from ipynb.fs.full.natural_disaster_per_state_wo_while import stacked_chart\n",
    "from ipynb.fs.full.input_file import StateInput\n",
    "from number_disasters_map import *\n",
    "from natural_disaster_per_state_wo_while import *\n",
    "from input_file import StateInput\n",
    "import pandas as pd\n"
   ]
  },
  {
   "cell_type": "code",
   "execution_count": 6,
   "metadata": {},
   "outputs": [
    {
     "name": "stdout",
     "output_type": "stream",
     "text": [
      "What type of chart would you like to view: (1) Average Disasters of the US (2) Disaster Type Per State 2\n",
      "Which STATE are you interested in viewing data on? 'XX'\n",
      "NJ\n"
     ]
    }
   ],
   "source": [
    "WhatTypeofChart = str(input(\"What type of chart would you like to view: (1) Average Disasters of the US (2) Disaster Type Per State \"))\n",
    "if WhatTypeofChart == \"2\":\n",
    "    c = StateInput()\n",
    "    c\n",
    "    per_input=c\n",
    "    a = stacked_chart(per_input)\n",
    "    a\n"
   ]
  },
  {
   "cell_type": "code",
   "execution_count": 5,
   "metadata": {},
   "outputs": [
    {
     "name": "stdout",
     "output_type": "stream",
     "text": [
      "Which STATE are you interested in viewing data on? 'XX'\n",
      "fl\n"
     ]
    },
    {
     "data": {
      "text/plain": [
       "'FL'"
      ]
     },
     "execution_count": 5,
     "metadata": {},
     "output_type": "execute_result"
    }
   ],
   "source": [
    "exec('c = StateInput()')\n",
    "#plt.show()\n",
    "#y.show()\n",
    "c\n"
   ]
  },
  {
   "cell_type": "code",
   "execution_count": null,
   "metadata": {},
   "outputs": [],
   "source": [
    "y = pd.read_csv('Clean Data/disasters_clean.csv')\n",
    "exec('x = map_chart(y)')\n",
    "#plt.show()\n",
    "#y.show()\n",
    "x"
   ]
  },
  {
   "cell_type": "code",
   "execution_count": null,
   "metadata": {},
   "outputs": [],
   "source": [
    "#per_input= input(\"State Var\")\n",
    "per_input =c\n",
    "exec('a = stacked_chart(per_input)')\n",
    "#y.show()\n",
    "a\n"
   ]
  },
  {
   "cell_type": "code",
   "execution_count": null,
   "metadata": {},
   "outputs": [],
   "source": []
  }
 ],
 "metadata": {
  "kernelspec": {
   "display_name": "Python 3",
   "language": "python",
   "name": "python3"
  },
  "language_info": {
   "codemirror_mode": {
    "name": "ipython",
    "version": 3
   },
   "file_extension": ".py",
   "mimetype": "text/x-python",
   "name": "python",
   "nbconvert_exporter": "python",
   "pygments_lexer": "ipython3",
   "version": "3.8.5"
  }
 },
 "nbformat": 4,
 "nbformat_minor": 4
}
