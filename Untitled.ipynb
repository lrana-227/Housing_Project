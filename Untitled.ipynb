{
 "cells": [
  {
   "cell_type": "code",
   "execution_count": 1,
   "metadata": {},
   "outputs": [],
   "source": [
    "import numpy as np\n",
    "import pandas as pd\n",
    "import plotly\n",
    "import plotly.graph_objs as go\n",
    "import chart_studio.plotly as py\n",
    "\n",
    "import plotly.graph_objs as go\n",
    "import plotly.offline as offline\n",
    "from plotly.graph_objs import *\n",
    "from plotly.offline import download_plotlyjs, init_notebook_mode, plot, iplot\n",
    "\n",
    "df = pd.read_csv('Clean Data/disasters_clean.csv')\n"
   ]
  },
  {
   "cell_type": "code",
   "execution_count": 2,
   "metadata": {},
   "outputs": [],
   "source": [
    "# min year in your dataset\n",
    "\n",
    "\n",
    "# your color-scale\n",
    "scl = [[0.0, '#ffffff'],[0.2, '#b4a8ce'],[0.4, '#8573a9'],\n",
    "       [0.6, '#7159a3'],[0.8, '#5732a1'],[1.0, '#2c0579']] # purples\n",
    "\n"
   ]
  },
  {
   "cell_type": "code",
   "execution_count": 3,
   "metadata": {},
   "outputs": [
    {
     "data": {
      "text/html": [
       "<div>\n",
       "<style scoped>\n",
       "    .dataframe tbody tr th:only-of-type {\n",
       "        vertical-align: middle;\n",
       "    }\n",
       "\n",
       "    .dataframe tbody tr th {\n",
       "        vertical-align: top;\n",
       "    }\n",
       "\n",
       "    .dataframe thead th {\n",
       "        text-align: right;\n",
       "    }\n",
       "</style>\n",
       "<table border=\"1\" class=\"dataframe\">\n",
       "  <thead>\n",
       "    <tr style=\"text-align: right;\">\n",
       "      <th></th>\n",
       "      <th>State</th>\n",
       "      <th>year start</th>\n",
       "      <th>Disaster Type</th>\n",
       "    </tr>\n",
       "  </thead>\n",
       "  <tbody>\n",
       "    <tr>\n",
       "      <th>0</th>\n",
       "      <td>AK</td>\n",
       "      <td>2011</td>\n",
       "      <td>9</td>\n",
       "    </tr>\n",
       "    <tr>\n",
       "      <th>1</th>\n",
       "      <td>AK</td>\n",
       "      <td>2012</td>\n",
       "      <td>5</td>\n",
       "    </tr>\n",
       "    <tr>\n",
       "      <th>2</th>\n",
       "      <td>AK</td>\n",
       "      <td>2013</td>\n",
       "      <td>10</td>\n",
       "    </tr>\n",
       "    <tr>\n",
       "      <th>3</th>\n",
       "      <td>AK</td>\n",
       "      <td>2015</td>\n",
       "      <td>2</td>\n",
       "    </tr>\n",
       "    <tr>\n",
       "      <th>4</th>\n",
       "      <td>AL</td>\n",
       "      <td>2010</td>\n",
       "      <td>3</td>\n",
       "    </tr>\n",
       "    <tr>\n",
       "      <th>...</th>\n",
       "      <td>...</td>\n",
       "      <td>...</td>\n",
       "      <td>...</td>\n",
       "    </tr>\n",
       "    <tr>\n",
       "      <th>238</th>\n",
       "      <td>WV</td>\n",
       "      <td>2015</td>\n",
       "      <td>67</td>\n",
       "    </tr>\n",
       "    <tr>\n",
       "      <th>239</th>\n",
       "      <td>WV</td>\n",
       "      <td>2016</td>\n",
       "      <td>18</td>\n",
       "    </tr>\n",
       "    <tr>\n",
       "      <th>240</th>\n",
       "      <td>WY</td>\n",
       "      <td>2010</td>\n",
       "      <td>3</td>\n",
       "    </tr>\n",
       "    <tr>\n",
       "      <th>241</th>\n",
       "      <td>WY</td>\n",
       "      <td>2011</td>\n",
       "      <td>16</td>\n",
       "    </tr>\n",
       "    <tr>\n",
       "      <th>242</th>\n",
       "      <td>WY</td>\n",
       "      <td>2015</td>\n",
       "      <td>4</td>\n",
       "    </tr>\n",
       "  </tbody>\n",
       "</table>\n",
       "<p>243 rows × 3 columns</p>\n",
       "</div>"
      ],
      "text/plain": [
       "    State  year start  Disaster Type\n",
       "0      AK        2011              9\n",
       "1      AK        2012              5\n",
       "2      AK        2013             10\n",
       "3      AK        2015              2\n",
       "4      AL        2010              3\n",
       "..    ...         ...            ...\n",
       "238    WV        2015             67\n",
       "239    WV        2016             18\n",
       "240    WY        2010              3\n",
       "241    WY        2011             16\n",
       "242    WY        2015              4\n",
       "\n",
       "[243 rows x 3 columns]"
      ]
     },
     "execution_count": 3,
     "metadata": {},
     "output_type": "execute_result"
    }
   ],
   "source": [
    "disaster_clean_df = df[[\"State\", \"Disaster Type\",\"year start\"]]\n",
    "x = disaster_clean_df.groupby([\"State\",'year start'])['Disaster Type'].count()\n",
    "x = x.reset_index()\n",
    "x"
   ]
  },
  {
   "cell_type": "code",
   "execution_count": 5,
   "metadata": {},
   "outputs": [
    {
     "name": "stderr",
     "output_type": "stream",
     "text": [
      "<ipython-input-5-333c9ad81805>:7: SettingWithCopyWarning:\n",
      "\n",
      "\n",
      "A value is trying to be set on a copy of a slice from a DataFrame.\n",
      "Try using .loc[row_indexer,col_indexer] = value instead\n",
      "\n",
      "See the caveats in the documentation: https://pandas.pydata.org/pandas-docs/stable/user_guide/indexing.html#returning-a-view-versus-a-copy\n",
      "\n",
      "<ipython-input-5-333c9ad81805>:7: SettingWithCopyWarning:\n",
      "\n",
      "\n",
      "A value is trying to be set on a copy of a slice from a DataFrame.\n",
      "Try using .loc[row_indexer,col_indexer] = value instead\n",
      "\n",
      "See the caveats in the documentation: https://pandas.pydata.org/pandas-docs/stable/user_guide/indexing.html#returning-a-view-versus-a-copy\n",
      "\n",
      "<ipython-input-5-333c9ad81805>:7: SettingWithCopyWarning:\n",
      "\n",
      "\n",
      "A value is trying to be set on a copy of a slice from a DataFrame.\n",
      "Try using .loc[row_indexer,col_indexer] = value instead\n",
      "\n",
      "See the caveats in the documentation: https://pandas.pydata.org/pandas-docs/stable/user_guide/indexing.html#returning-a-view-versus-a-copy\n",
      "\n",
      "<ipython-input-5-333c9ad81805>:7: SettingWithCopyWarning:\n",
      "\n",
      "\n",
      "A value is trying to be set on a copy of a slice from a DataFrame.\n",
      "Try using .loc[row_indexer,col_indexer] = value instead\n",
      "\n",
      "See the caveats in the documentation: https://pandas.pydata.org/pandas-docs/stable/user_guide/indexing.html#returning-a-view-versus-a-copy\n",
      "\n",
      "<ipython-input-5-333c9ad81805>:7: SettingWithCopyWarning:\n",
      "\n",
      "\n",
      "A value is trying to be set on a copy of a slice from a DataFrame.\n",
      "Try using .loc[row_indexer,col_indexer] = value instead\n",
      "\n",
      "See the caveats in the documentation: https://pandas.pydata.org/pandas-docs/stable/user_guide/indexing.html#returning-a-view-versus-a-copy\n",
      "\n",
      "<ipython-input-5-333c9ad81805>:7: SettingWithCopyWarning:\n",
      "\n",
      "\n",
      "A value is trying to be set on a copy of a slice from a DataFrame.\n",
      "Try using .loc[row_indexer,col_indexer] = value instead\n",
      "\n",
      "See the caveats in the documentation: https://pandas.pydata.org/pandas-docs/stable/user_guide/indexing.html#returning-a-view-versus-a-copy\n",
      "\n",
      "<ipython-input-5-333c9ad81805>:7: SettingWithCopyWarning:\n",
      "\n",
      "\n",
      "A value is trying to be set on a copy of a slice from a DataFrame.\n",
      "Try using .loc[row_indexer,col_indexer] = value instead\n",
      "\n",
      "See the caveats in the documentation: https://pandas.pydata.org/pandas-docs/stable/user_guide/indexing.html#returning-a-view-versus-a-copy\n",
      "\n",
      "<ipython-input-5-333c9ad81805>:7: SettingWithCopyWarning:\n",
      "\n",
      "\n",
      "A value is trying to be set on a copy of a slice from a DataFrame.\n",
      "Try using .loc[row_indexer,col_indexer] = value instead\n",
      "\n",
      "See the caveats in the documentation: https://pandas.pydata.org/pandas-docs/stable/user_guide/indexing.html#returning-a-view-versus-a-copy\n",
      "\n"
     ]
    },
    {
     "data": {
      "application/vnd.plotly.v1+json": {
       "config": {
        "linkText": "Export to plot.ly",
        "plotlyServerURL": "https://plot.ly",
        "showLink": false
       },
       "data": [
        {
         "colorbar": {
          "title": {
           "text": "# Sightings"
          }
         },
         "colorscale": [
          [
           0,
           "#ffffff"
          ],
          [
           0.2,
           "#b4a8ce"
          ],
          [
           0.4,
           "#8573a9"
          ],
          [
           0.6,
           "#7159a3"
          ],
          [
           0.8,
           "#5732a1"
          ],
          [
           1,
           "#2c0579"
          ]
         ],
         "locationmode": "USA-states",
         "locations": [
          "AK",
          "AL",
          "AR",
          "CA",
          "CT",
          "DC",
          "DE",
          "GA",
          "HI",
          "IA",
          "ID",
          "IL",
          "IN",
          "KS",
          "KY",
          "LA",
          "MA",
          "MD",
          "ME",
          "MN",
          "MO",
          "MS",
          "MT",
          "NC",
          "ND",
          "NE",
          "NH",
          "NJ",
          "NM",
          "NY",
          "OH",
          "OK",
          "OR",
          "PA",
          "PR",
          "RI",
          "SD",
          "TN",
          "TX",
          "UT",
          "VA",
          "VT",
          "WA",
          "WI",
          "WY"
         ],
         "type": "choropleth",
         "z": [
          9,
          67,
          63,
          3,
          23,
          2,
          2,
          26,
          3,
          20,
          6,
          86,
          36,
          29,
          86,
          30,
          24,
          22,
          4,
          52,
          114,
          54,
          55,
          58,
          57,
          29,
          11,
          40,
          21,
          70,
          21,
          43,
          9,
          53,
          72,
          6,
          40,
          99,
          187,
          20,
          66,
          29,
          7,
          11,
          16
         ]
        },
        {
         "colorbar": {
          "title": {
           "text": "# Sightings"
          }
         },
         "colorscale": [
          [
           0,
           "#ffffff"
          ],
          [
           0.2,
           "#b4a8ce"
          ],
          [
           0.4,
           "#8573a9"
          ],
          [
           0.6,
           "#7159a3"
          ],
          [
           0.8,
           "#5732a1"
          ],
          [
           1,
           "#2c0579"
          ]
         ],
         "locationmode": "USA-states",
         "locations": [
          "AK",
          "AL",
          "AR",
          "AZ",
          "CO",
          "CT",
          "DC",
          "DE",
          "FL",
          "HI",
          "IN",
          "KS",
          "KY",
          "LA",
          "MA",
          "MD",
          "MN",
          "MS",
          "MT",
          "NH",
          "NJ",
          "NM",
          "NY",
          "OH",
          "OK",
          "OR",
          "PA",
          "RI",
          "TN",
          "UT",
          "VA",
          "VT",
          "WA",
          "WI",
          "WV"
         ],
         "type": "choropleth",
         "z": [
          5,
          11,
          8,
          1,
          3,
          8,
          2,
          3,
          46,
          2,
          6,
          14,
          23,
          55,
          6,
          30,
          18,
          49,
          3,
          7,
          24,
          5,
          14,
          41,
          7,
          12,
          18,
          4,
          10,
          1,
          98,
          3,
          14,
          4,
          79
         ]
        },
        {
         "colorbar": {
          "title": {
           "text": "# Sightings"
          }
         },
         "colorscale": [
          [
           0,
           "#ffffff"
          ],
          [
           0.2,
           "#b4a8ce"
          ],
          [
           0.4,
           "#8573a9"
          ],
          [
           0.6,
           "#7159a3"
          ],
          [
           0.8,
           "#5732a1"
          ],
          [
           1,
           "#2c0579"
          ]
         ],
         "locationmode": "USA-states",
         "locations": [
          "AK",
          "AR",
          "CA",
          "CO",
          "CT",
          "FL",
          "IA",
          "IL",
          "KS",
          "LA",
          "MA",
          "ME",
          "MI",
          "MN",
          "MO",
          "MS",
          "MT",
          "NC",
          "ND",
          "NE",
          "NH",
          "NM",
          "NY",
          "OK",
          "PA",
          "RI",
          "SD",
          "TX",
          "VT",
          "WI",
          "WV"
         ],
         "type": "choropleth",
         "z": [
          10,
          31,
          2,
          20,
          9,
          4,
          86,
          62,
          69,
          11,
          14,
          6,
          16,
          23,
          46,
          7,
          15,
          21,
          46,
          10,
          11,
          39,
          17,
          42,
          11,
          5,
          38,
          5,
          17,
          8,
          2
         ]
        },
        {
         "colorbar": {
          "title": {
           "text": "# Sightings"
          }
         },
         "colorscale": [
          [
           0,
           "#ffffff"
          ],
          [
           0.2,
           "#b4a8ce"
          ],
          [
           0.4,
           "#8573a9"
          ],
          [
           0.6,
           "#7159a3"
          ],
          [
           0.8,
           "#5732a1"
          ],
          [
           1,
           "#2c0579"
          ]
         ],
         "locationmode": "USA-states",
         "locations": [
          "AK",
          "AL",
          "AR",
          "CA",
          "CO",
          "CT",
          "GA",
          "GU",
          "IA",
          "ID",
          "KS",
          "KY",
          "LA",
          "MA",
          "ME",
          "MO",
          "MP",
          "MS",
          "NE",
          "NH",
          "NJ",
          "OK",
          "OR",
          "RI",
          "SC",
          "SD",
          "TN",
          "TX",
          "VT",
          "WA",
          "WV",
          "WY"
         ],
         "type": "choropleth",
         "z": [
          2,
          39,
          67,
          2,
          15,
          4,
          50,
          1,
          19,
          8,
          44,
          163,
          7,
          10,
          4,
          128,
          3,
          12,
          28,
          3,
          4,
          126,
          14,
          5,
          36,
          15,
          45,
          135,
          2,
          41,
          67,
          4
         ]
        },
        {
         "colorbar": {
          "title": {
           "text": "# Sightings"
          }
         },
         "colorscale": [
          [
           0,
           "#ffffff"
          ],
          [
           0.2,
           "#b4a8ce"
          ],
          [
           0.4,
           "#8573a9"
          ],
          [
           0.6,
           "#7159a3"
          ],
          [
           0.8,
           "#5732a1"
          ],
          [
           1,
           "#2c0579"
          ]
         ],
         "locationmode": "USA-states",
         "locations": [
          "AL",
          "AZ",
          "CA",
          "CT",
          "DC",
          "DE",
          "IA",
          "ID",
          "IL",
          "KS",
          "KY",
          "MA",
          "MD",
          "ME",
          "MN",
          "MO",
          "MS",
          "MT",
          "NC",
          "ND",
          "NE",
          "NH",
          "NJ",
          "NM",
          "NY",
          "OK",
          "PA",
          "PR",
          "RI",
          "SD",
          "TN",
          "TX",
          "UT",
          "VA",
          "VI",
          "VT",
          "WI",
          "WV",
          "WY"
         ],
         "type": "choropleth",
         "z": [
          3,
          17,
          17,
          5,
          1,
          3,
          90,
          7,
          11,
          41,
          91,
          7,
          22,
          10,
          70,
          37,
          18,
          3,
          14,
          69,
          105,
          8,
          38,
          7,
          22,
          73,
          27,
          31,
          5,
          93,
          59,
          21,
          3,
          38,
          7,
          3,
          12,
          31,
          3
         ]
        },
        {
         "colorbar": {
          "title": {
           "text": "# Sightings"
          }
         },
         "colorscale": [
          [
           0,
           "#ffffff"
          ],
          [
           0.2,
           "#b4a8ce"
          ],
          [
           0.4,
           "#8573a9"
          ],
          [
           0.6,
           "#7159a3"
          ],
          [
           0.8,
           "#5732a1"
          ],
          [
           1,
           "#2c0579"
          ]
         ],
         "locationmode": "USA-states",
         "locations": [
          "AL",
          "AR",
          "AS",
          "AZ",
          "CA",
          "FL",
          "GA",
          "GU",
          "HI",
          "IA",
          "IN",
          "KY",
          "MD",
          "MI",
          "MN",
          "MO",
          "MS",
          "MT",
          "NC",
          "ND",
          "NE",
          "NM",
          "NV",
          "NY",
          "OR",
          "SC",
          "SD",
          "TN",
          "VT",
          "WA"
         ],
         "type": "choropleth",
         "z": [
          21,
          12,
          5,
          2,
          3,
          9,
          45,
          1,
          3,
          60,
          30,
          4,
          4,
          3,
          40,
          20,
          14,
          21,
          9,
          10,
          30,
          16,
          1,
          20,
          4,
          22,
          13,
          33,
          17,
          7
         ]
        },
        {
         "colorbar": {
          "title": {
           "text": "# Sightings"
          }
         },
         "colorscale": [
          [
           0,
           "#ffffff"
          ],
          [
           0.2,
           "#b4a8ce"
          ],
          [
           0.4,
           "#8573a9"
          ],
          [
           0.6,
           "#7159a3"
          ],
          [
           0.8,
           "#5732a1"
          ],
          [
           1,
           "#2c0579"
          ]
         ],
         "locationmode": "USA-states",
         "locations": [
          "AR",
          "DC",
          "DE",
          "FL",
          "GA",
          "HI",
          "IA",
          "KS",
          "KY",
          "LA",
          "MD",
          "MN",
          "MS",
          "MT",
          "NC",
          "NJ",
          "OK",
          "OR",
          "PA",
          "SC",
          "SD",
          "TN",
          "TX",
          "VA",
          "WI",
          "WV"
         ],
         "type": "choropleth",
         "z": [
          12,
          1,
          1,
          44,
          20,
          1,
          27,
          13,
          20,
          63,
          20,
          10,
          29,
          6,
          50,
          17,
          8,
          2,
          27,
          26,
          26,
          1,
          145,
          40,
          19,
          18
         ]
        },
        {
         "colorbar": {
          "title": {
           "text": "# Sightings"
          }
         },
         "colorscale": [
          [
           0,
           "#ffffff"
          ],
          [
           0.2,
           "#b4a8ce"
          ],
          [
           0.4,
           "#8573a9"
          ],
          [
           0.6,
           "#7159a3"
          ],
          [
           0.8,
           "#5732a1"
          ],
          [
           1,
           "#2c0579"
          ]
         ],
         "locationmode": "USA-states",
         "locations": [
          "CA",
          "GA",
          "LA",
          "MS",
          "OK"
         ],
         "type": "choropleth",
         "z": [
          35,
          28,
          2,
          4,
          10
         ]
        }
       ],
       "layout": {
        "geo": {
         "projection": {
          "type": "albers usa"
         },
         "scope": "usa"
        },
        "sliders": [
         {
          "active": 0,
          "pad": {
           "t": 1
          },
          "steps": [
           {
            "args": [
             "visible",
             [
              true,
              false,
              false,
              false,
              false,
              false,
              false,
              false
             ]
            ],
            "label": "Year 2009",
            "method": "restyle"
           },
           {
            "args": [
             "visible",
             [
              false,
              true,
              false,
              false,
              false,
              false,
              false,
              false
             ]
            ],
            "label": "Year 2010",
            "method": "restyle"
           },
           {
            "args": [
             "visible",
             [
              false,
              false,
              true,
              false,
              false,
              false,
              false,
              false
             ]
            ],
            "label": "Year 2011",
            "method": "restyle"
           },
           {
            "args": [
             "visible",
             [
              false,
              false,
              false,
              true,
              false,
              false,
              false,
              false
             ]
            ],
            "label": "Year 2012",
            "method": "restyle"
           },
           {
            "args": [
             "visible",
             [
              false,
              false,
              false,
              false,
              true,
              false,
              false,
              false
             ]
            ],
            "label": "Year 2013",
            "method": "restyle"
           },
           {
            "args": [
             "visible",
             [
              false,
              false,
              false,
              false,
              false,
              true,
              false,
              false
             ]
            ],
            "label": "Year 2014",
            "method": "restyle"
           },
           {
            "args": [
             "visible",
             [
              false,
              false,
              false,
              false,
              false,
              false,
              true,
              false
             ]
            ],
            "label": "Year 2015",
            "method": "restyle"
           },
           {
            "args": [
             "visible",
             [
              false,
              false,
              false,
              false,
              false,
              false,
              false,
              true
             ]
            ],
            "label": "Year 2016",
            "method": "restyle"
           }
          ]
         }
        ],
        "template": {
         "data": {
          "bar": [
           {
            "error_x": {
             "color": "#2a3f5f"
            },
            "error_y": {
             "color": "#2a3f5f"
            },
            "marker": {
             "line": {
              "color": "#E5ECF6",
              "width": 0.5
             }
            },
            "type": "bar"
           }
          ],
          "barpolar": [
           {
            "marker": {
             "line": {
              "color": "#E5ECF6",
              "width": 0.5
             }
            },
            "type": "barpolar"
           }
          ],
          "carpet": [
           {
            "aaxis": {
             "endlinecolor": "#2a3f5f",
             "gridcolor": "white",
             "linecolor": "white",
             "minorgridcolor": "white",
             "startlinecolor": "#2a3f5f"
            },
            "baxis": {
             "endlinecolor": "#2a3f5f",
             "gridcolor": "white",
             "linecolor": "white",
             "minorgridcolor": "white",
             "startlinecolor": "#2a3f5f"
            },
            "type": "carpet"
           }
          ],
          "choropleth": [
           {
            "colorbar": {
             "outlinewidth": 0,
             "ticks": ""
            },
            "type": "choropleth"
           }
          ],
          "contour": [
           {
            "colorbar": {
             "outlinewidth": 0,
             "ticks": ""
            },
            "colorscale": [
             [
              0,
              "#0d0887"
             ],
             [
              0.1111111111111111,
              "#46039f"
             ],
             [
              0.2222222222222222,
              "#7201a8"
             ],
             [
              0.3333333333333333,
              "#9c179e"
             ],
             [
              0.4444444444444444,
              "#bd3786"
             ],
             [
              0.5555555555555556,
              "#d8576b"
             ],
             [
              0.6666666666666666,
              "#ed7953"
             ],
             [
              0.7777777777777778,
              "#fb9f3a"
             ],
             [
              0.8888888888888888,
              "#fdca26"
             ],
             [
              1,
              "#f0f921"
             ]
            ],
            "type": "contour"
           }
          ],
          "contourcarpet": [
           {
            "colorbar": {
             "outlinewidth": 0,
             "ticks": ""
            },
            "type": "contourcarpet"
           }
          ],
          "heatmap": [
           {
            "colorbar": {
             "outlinewidth": 0,
             "ticks": ""
            },
            "colorscale": [
             [
              0,
              "#0d0887"
             ],
             [
              0.1111111111111111,
              "#46039f"
             ],
             [
              0.2222222222222222,
              "#7201a8"
             ],
             [
              0.3333333333333333,
              "#9c179e"
             ],
             [
              0.4444444444444444,
              "#bd3786"
             ],
             [
              0.5555555555555556,
              "#d8576b"
             ],
             [
              0.6666666666666666,
              "#ed7953"
             ],
             [
              0.7777777777777778,
              "#fb9f3a"
             ],
             [
              0.8888888888888888,
              "#fdca26"
             ],
             [
              1,
              "#f0f921"
             ]
            ],
            "type": "heatmap"
           }
          ],
          "heatmapgl": [
           {
            "colorbar": {
             "outlinewidth": 0,
             "ticks": ""
            },
            "colorscale": [
             [
              0,
              "#0d0887"
             ],
             [
              0.1111111111111111,
              "#46039f"
             ],
             [
              0.2222222222222222,
              "#7201a8"
             ],
             [
              0.3333333333333333,
              "#9c179e"
             ],
             [
              0.4444444444444444,
              "#bd3786"
             ],
             [
              0.5555555555555556,
              "#d8576b"
             ],
             [
              0.6666666666666666,
              "#ed7953"
             ],
             [
              0.7777777777777778,
              "#fb9f3a"
             ],
             [
              0.8888888888888888,
              "#fdca26"
             ],
             [
              1,
              "#f0f921"
             ]
            ],
            "type": "heatmapgl"
           }
          ],
          "histogram": [
           {
            "marker": {
             "colorbar": {
              "outlinewidth": 0,
              "ticks": ""
             }
            },
            "type": "histogram"
           }
          ],
          "histogram2d": [
           {
            "colorbar": {
             "outlinewidth": 0,
             "ticks": ""
            },
            "colorscale": [
             [
              0,
              "#0d0887"
             ],
             [
              0.1111111111111111,
              "#46039f"
             ],
             [
              0.2222222222222222,
              "#7201a8"
             ],
             [
              0.3333333333333333,
              "#9c179e"
             ],
             [
              0.4444444444444444,
              "#bd3786"
             ],
             [
              0.5555555555555556,
              "#d8576b"
             ],
             [
              0.6666666666666666,
              "#ed7953"
             ],
             [
              0.7777777777777778,
              "#fb9f3a"
             ],
             [
              0.8888888888888888,
              "#fdca26"
             ],
             [
              1,
              "#f0f921"
             ]
            ],
            "type": "histogram2d"
           }
          ],
          "histogram2dcontour": [
           {
            "colorbar": {
             "outlinewidth": 0,
             "ticks": ""
            },
            "colorscale": [
             [
              0,
              "#0d0887"
             ],
             [
              0.1111111111111111,
              "#46039f"
             ],
             [
              0.2222222222222222,
              "#7201a8"
             ],
             [
              0.3333333333333333,
              "#9c179e"
             ],
             [
              0.4444444444444444,
              "#bd3786"
             ],
             [
              0.5555555555555556,
              "#d8576b"
             ],
             [
              0.6666666666666666,
              "#ed7953"
             ],
             [
              0.7777777777777778,
              "#fb9f3a"
             ],
             [
              0.8888888888888888,
              "#fdca26"
             ],
             [
              1,
              "#f0f921"
             ]
            ],
            "type": "histogram2dcontour"
           }
          ],
          "mesh3d": [
           {
            "colorbar": {
             "outlinewidth": 0,
             "ticks": ""
            },
            "type": "mesh3d"
           }
          ],
          "parcoords": [
           {
            "line": {
             "colorbar": {
              "outlinewidth": 0,
              "ticks": ""
             }
            },
            "type": "parcoords"
           }
          ],
          "pie": [
           {
            "automargin": true,
            "type": "pie"
           }
          ],
          "scatter": [
           {
            "marker": {
             "colorbar": {
              "outlinewidth": 0,
              "ticks": ""
             }
            },
            "type": "scatter"
           }
          ],
          "scatter3d": [
           {
            "line": {
             "colorbar": {
              "outlinewidth": 0,
              "ticks": ""
             }
            },
            "marker": {
             "colorbar": {
              "outlinewidth": 0,
              "ticks": ""
             }
            },
            "type": "scatter3d"
           }
          ],
          "scattercarpet": [
           {
            "marker": {
             "colorbar": {
              "outlinewidth": 0,
              "ticks": ""
             }
            },
            "type": "scattercarpet"
           }
          ],
          "scattergeo": [
           {
            "marker": {
             "colorbar": {
              "outlinewidth": 0,
              "ticks": ""
             }
            },
            "type": "scattergeo"
           }
          ],
          "scattergl": [
           {
            "marker": {
             "colorbar": {
              "outlinewidth": 0,
              "ticks": ""
             }
            },
            "type": "scattergl"
           }
          ],
          "scattermapbox": [
           {
            "marker": {
             "colorbar": {
              "outlinewidth": 0,
              "ticks": ""
             }
            },
            "type": "scattermapbox"
           }
          ],
          "scatterpolar": [
           {
            "marker": {
             "colorbar": {
              "outlinewidth": 0,
              "ticks": ""
             }
            },
            "type": "scatterpolar"
           }
          ],
          "scatterpolargl": [
           {
            "marker": {
             "colorbar": {
              "outlinewidth": 0,
              "ticks": ""
             }
            },
            "type": "scatterpolargl"
           }
          ],
          "scatterternary": [
           {
            "marker": {
             "colorbar": {
              "outlinewidth": 0,
              "ticks": ""
             }
            },
            "type": "scatterternary"
           }
          ],
          "surface": [
           {
            "colorbar": {
             "outlinewidth": 0,
             "ticks": ""
            },
            "colorscale": [
             [
              0,
              "#0d0887"
             ],
             [
              0.1111111111111111,
              "#46039f"
             ],
             [
              0.2222222222222222,
              "#7201a8"
             ],
             [
              0.3333333333333333,
              "#9c179e"
             ],
             [
              0.4444444444444444,
              "#bd3786"
             ],
             [
              0.5555555555555556,
              "#d8576b"
             ],
             [
              0.6666666666666666,
              "#ed7953"
             ],
             [
              0.7777777777777778,
              "#fb9f3a"
             ],
             [
              0.8888888888888888,
              "#fdca26"
             ],
             [
              1,
              "#f0f921"
             ]
            ],
            "type": "surface"
           }
          ],
          "table": [
           {
            "cells": {
             "fill": {
              "color": "#EBF0F8"
             },
             "line": {
              "color": "white"
             }
            },
            "header": {
             "fill": {
              "color": "#C8D4E3"
             },
             "line": {
              "color": "white"
             }
            },
            "type": "table"
           }
          ]
         },
         "layout": {
          "annotationdefaults": {
           "arrowcolor": "#2a3f5f",
           "arrowhead": 0,
           "arrowwidth": 1
          },
          "autotypenumbers": "strict",
          "coloraxis": {
           "colorbar": {
            "outlinewidth": 0,
            "ticks": ""
           }
          },
          "colorscale": {
           "diverging": [
            [
             0,
             "#8e0152"
            ],
            [
             0.1,
             "#c51b7d"
            ],
            [
             0.2,
             "#de77ae"
            ],
            [
             0.3,
             "#f1b6da"
            ],
            [
             0.4,
             "#fde0ef"
            ],
            [
             0.5,
             "#f7f7f7"
            ],
            [
             0.6,
             "#e6f5d0"
            ],
            [
             0.7,
             "#b8e186"
            ],
            [
             0.8,
             "#7fbc41"
            ],
            [
             0.9,
             "#4d9221"
            ],
            [
             1,
             "#276419"
            ]
           ],
           "sequential": [
            [
             0,
             "#0d0887"
            ],
            [
             0.1111111111111111,
             "#46039f"
            ],
            [
             0.2222222222222222,
             "#7201a8"
            ],
            [
             0.3333333333333333,
             "#9c179e"
            ],
            [
             0.4444444444444444,
             "#bd3786"
            ],
            [
             0.5555555555555556,
             "#d8576b"
            ],
            [
             0.6666666666666666,
             "#ed7953"
            ],
            [
             0.7777777777777778,
             "#fb9f3a"
            ],
            [
             0.8888888888888888,
             "#fdca26"
            ],
            [
             1,
             "#f0f921"
            ]
           ],
           "sequentialminus": [
            [
             0,
             "#0d0887"
            ],
            [
             0.1111111111111111,
             "#46039f"
            ],
            [
             0.2222222222222222,
             "#7201a8"
            ],
            [
             0.3333333333333333,
             "#9c179e"
            ],
            [
             0.4444444444444444,
             "#bd3786"
            ],
            [
             0.5555555555555556,
             "#d8576b"
            ],
            [
             0.6666666666666666,
             "#ed7953"
            ],
            [
             0.7777777777777778,
             "#fb9f3a"
            ],
            [
             0.8888888888888888,
             "#fdca26"
            ],
            [
             1,
             "#f0f921"
            ]
           ]
          },
          "colorway": [
           "#636efa",
           "#EF553B",
           "#00cc96",
           "#ab63fa",
           "#FFA15A",
           "#19d3f3",
           "#FF6692",
           "#B6E880",
           "#FF97FF",
           "#FECB52"
          ],
          "font": {
           "color": "#2a3f5f"
          },
          "geo": {
           "bgcolor": "white",
           "lakecolor": "white",
           "landcolor": "#E5ECF6",
           "showlakes": true,
           "showland": true,
           "subunitcolor": "white"
          },
          "hoverlabel": {
           "align": "left"
          },
          "hovermode": "closest",
          "mapbox": {
           "style": "light"
          },
          "paper_bgcolor": "white",
          "plot_bgcolor": "#E5ECF6",
          "polar": {
           "angularaxis": {
            "gridcolor": "white",
            "linecolor": "white",
            "ticks": ""
           },
           "bgcolor": "#E5ECF6",
           "radialaxis": {
            "gridcolor": "white",
            "linecolor": "white",
            "ticks": ""
           }
          },
          "scene": {
           "xaxis": {
            "backgroundcolor": "#E5ECF6",
            "gridcolor": "white",
            "gridwidth": 2,
            "linecolor": "white",
            "showbackground": true,
            "ticks": "",
            "zerolinecolor": "white"
           },
           "yaxis": {
            "backgroundcolor": "#E5ECF6",
            "gridcolor": "white",
            "gridwidth": 2,
            "linecolor": "white",
            "showbackground": true,
            "ticks": "",
            "zerolinecolor": "white"
           },
           "zaxis": {
            "backgroundcolor": "#E5ECF6",
            "gridcolor": "white",
            "gridwidth": 2,
            "linecolor": "white",
            "showbackground": true,
            "ticks": "",
            "zerolinecolor": "white"
           }
          },
          "shapedefaults": {
           "line": {
            "color": "#2a3f5f"
           }
          },
          "ternary": {
           "aaxis": {
            "gridcolor": "white",
            "linecolor": "white",
            "ticks": ""
           },
           "baxis": {
            "gridcolor": "white",
            "linecolor": "white",
            "ticks": ""
           },
           "bgcolor": "#E5ECF6",
           "caxis": {
            "gridcolor": "white",
            "linecolor": "white",
            "ticks": ""
           }
          },
          "title": {
           "x": 0.05
          },
          "xaxis": {
           "automargin": true,
           "gridcolor": "white",
           "linecolor": "white",
           "ticks": "",
           "title": {
            "standoff": 15
           },
           "zerolinecolor": "white",
           "zerolinewidth": 2
          },
          "yaxis": {
           "automargin": true,
           "gridcolor": "white",
           "linecolor": "white",
           "ticks": "",
           "title": {
            "standoff": 15
           },
           "zerolinecolor": "white",
           "zerolinewidth": 2
          }
         }
        },
        "title": {
         "text": "State Weather since 2010"
        }
       }
      },
      "text/html": [
       "<div>                            <div id=\"f87eec5a-ae8c-4aad-9967-6267ad82f7dc\" class=\"plotly-graph-div\" style=\"height:525px; width:100%;\"></div>            <script type=\"text/javascript\">                require([\"plotly\"], function(Plotly) {                    window.PLOTLYENV=window.PLOTLYENV || {};                                    if (document.getElementById(\"f87eec5a-ae8c-4aad-9967-6267ad82f7dc\")) {                    Plotly.newPlot(                        \"f87eec5a-ae8c-4aad-9967-6267ad82f7dc\",                        [{\"colorbar\": {\"title\": {\"text\": \"# Sightings\"}}, \"colorscale\": [[0.0, \"#ffffff\"], [0.2, \"#b4a8ce\"], [0.4, \"#8573a9\"], [0.6, \"#7159a3\"], [0.8, \"#5732a1\"], [1.0, \"#2c0579\"]], \"locationmode\": \"USA-states\", \"locations\": [\"AK\", \"AL\", \"AR\", \"CA\", \"CT\", \"DC\", \"DE\", \"GA\", \"HI\", \"IA\", \"ID\", \"IL\", \"IN\", \"KS\", \"KY\", \"LA\", \"MA\", \"MD\", \"ME\", \"MN\", \"MO\", \"MS\", \"MT\", \"NC\", \"ND\", \"NE\", \"NH\", \"NJ\", \"NM\", \"NY\", \"OH\", \"OK\", \"OR\", \"PA\", \"PR\", \"RI\", \"SD\", \"TN\", \"TX\", \"UT\", \"VA\", \"VT\", \"WA\", \"WI\", \"WY\"], \"type\": \"choropleth\", \"z\": [9.0, 67.0, 63.0, 3.0, 23.0, 2.0, 2.0, 26.0, 3.0, 20.0, 6.0, 86.0, 36.0, 29.0, 86.0, 30.0, 24.0, 22.0, 4.0, 52.0, 114.0, 54.0, 55.0, 58.0, 57.0, 29.0, 11.0, 40.0, 21.0, 70.0, 21.0, 43.0, 9.0, 53.0, 72.0, 6.0, 40.0, 99.0, 187.0, 20.0, 66.0, 29.0, 7.0, 11.0, 16.0]}, {\"colorbar\": {\"title\": {\"text\": \"# Sightings\"}}, \"colorscale\": [[0.0, \"#ffffff\"], [0.2, \"#b4a8ce\"], [0.4, \"#8573a9\"], [0.6, \"#7159a3\"], [0.8, \"#5732a1\"], [1.0, \"#2c0579\"]], \"locationmode\": \"USA-states\", \"locations\": [\"AK\", \"AL\", \"AR\", \"AZ\", \"CO\", \"CT\", \"DC\", \"DE\", \"FL\", \"HI\", \"IN\", \"KS\", \"KY\", \"LA\", \"MA\", \"MD\", \"MN\", \"MS\", \"MT\", \"NH\", \"NJ\", \"NM\", \"NY\", \"OH\", \"OK\", \"OR\", \"PA\", \"RI\", \"TN\", \"UT\", \"VA\", \"VT\", \"WA\", \"WI\", \"WV\"], \"type\": \"choropleth\", \"z\": [5.0, 11.0, 8.0, 1.0, 3.0, 8.0, 2.0, 3.0, 46.0, 2.0, 6.0, 14.0, 23.0, 55.0, 6.0, 30.0, 18.0, 49.0, 3.0, 7.0, 24.0, 5.0, 14.0, 41.0, 7.0, 12.0, 18.0, 4.0, 10.0, 1.0, 98.0, 3.0, 14.0, 4.0, 79.0]}, {\"colorbar\": {\"title\": {\"text\": \"# Sightings\"}}, \"colorscale\": [[0.0, \"#ffffff\"], [0.2, \"#b4a8ce\"], [0.4, \"#8573a9\"], [0.6, \"#7159a3\"], [0.8, \"#5732a1\"], [1.0, \"#2c0579\"]], \"locationmode\": \"USA-states\", \"locations\": [\"AK\", \"AR\", \"CA\", \"CO\", \"CT\", \"FL\", \"IA\", \"IL\", \"KS\", \"LA\", \"MA\", \"ME\", \"MI\", \"MN\", \"MO\", \"MS\", \"MT\", \"NC\", \"ND\", \"NE\", \"NH\", \"NM\", \"NY\", \"OK\", \"PA\", \"RI\", \"SD\", \"TX\", \"VT\", \"WI\", \"WV\"], \"type\": \"choropleth\", \"z\": [10.0, 31.0, 2.0, 20.0, 9.0, 4.0, 86.0, 62.0, 69.0, 11.0, 14.0, 6.0, 16.0, 23.0, 46.0, 7.0, 15.0, 21.0, 46.0, 10.0, 11.0, 39.0, 17.0, 42.0, 11.0, 5.0, 38.0, 5.0, 17.0, 8.0, 2.0]}, {\"colorbar\": {\"title\": {\"text\": \"# Sightings\"}}, \"colorscale\": [[0.0, \"#ffffff\"], [0.2, \"#b4a8ce\"], [0.4, \"#8573a9\"], [0.6, \"#7159a3\"], [0.8, \"#5732a1\"], [1.0, \"#2c0579\"]], \"locationmode\": \"USA-states\", \"locations\": [\"AK\", \"AL\", \"AR\", \"CA\", \"CO\", \"CT\", \"GA\", \"GU\", \"IA\", \"ID\", \"KS\", \"KY\", \"LA\", \"MA\", \"ME\", \"MO\", \"MP\", \"MS\", \"NE\", \"NH\", \"NJ\", \"OK\", \"OR\", \"RI\", \"SC\", \"SD\", \"TN\", \"TX\", \"VT\", \"WA\", \"WV\", \"WY\"], \"type\": \"choropleth\", \"z\": [2.0, 39.0, 67.0, 2.0, 15.0, 4.0, 50.0, 1.0, 19.0, 8.0, 44.0, 163.0, 7.0, 10.0, 4.0, 128.0, 3.0, 12.0, 28.0, 3.0, 4.0, 126.0, 14.0, 5.0, 36.0, 15.0, 45.0, 135.0, 2.0, 41.0, 67.0, 4.0]}, {\"colorbar\": {\"title\": {\"text\": \"# Sightings\"}}, \"colorscale\": [[0.0, \"#ffffff\"], [0.2, \"#b4a8ce\"], [0.4, \"#8573a9\"], [0.6, \"#7159a3\"], [0.8, \"#5732a1\"], [1.0, \"#2c0579\"]], \"locationmode\": \"USA-states\", \"locations\": [\"AL\", \"AZ\", \"CA\", \"CT\", \"DC\", \"DE\", \"IA\", \"ID\", \"IL\", \"KS\", \"KY\", \"MA\", \"MD\", \"ME\", \"MN\", \"MO\", \"MS\", \"MT\", \"NC\", \"ND\", \"NE\", \"NH\", \"NJ\", \"NM\", \"NY\", \"OK\", \"PA\", \"PR\", \"RI\", \"SD\", \"TN\", \"TX\", \"UT\", \"VA\", \"VI\", \"VT\", \"WI\", \"WV\", \"WY\"], \"type\": \"choropleth\", \"z\": [3.0, 17.0, 17.0, 5.0, 1.0, 3.0, 90.0, 7.0, 11.0, 41.0, 91.0, 7.0, 22.0, 10.0, 70.0, 37.0, 18.0, 3.0, 14.0, 69.0, 105.0, 8.0, 38.0, 7.0, 22.0, 73.0, 27.0, 31.0, 5.0, 93.0, 59.0, 21.0, 3.0, 38.0, 7.0, 3.0, 12.0, 31.0, 3.0]}, {\"colorbar\": {\"title\": {\"text\": \"# Sightings\"}}, \"colorscale\": [[0.0, \"#ffffff\"], [0.2, \"#b4a8ce\"], [0.4, \"#8573a9\"], [0.6, \"#7159a3\"], [0.8, \"#5732a1\"], [1.0, \"#2c0579\"]], \"locationmode\": \"USA-states\", \"locations\": [\"AL\", \"AR\", \"AS\", \"AZ\", \"CA\", \"FL\", \"GA\", \"GU\", \"HI\", \"IA\", \"IN\", \"KY\", \"MD\", \"MI\", \"MN\", \"MO\", \"MS\", \"MT\", \"NC\", \"ND\", \"NE\", \"NM\", \"NV\", \"NY\", \"OR\", \"SC\", \"SD\", \"TN\", \"VT\", \"WA\"], \"type\": \"choropleth\", \"z\": [21.0, 12.0, 5.0, 2.0, 3.0, 9.0, 45.0, 1.0, 3.0, 60.0, 30.0, 4.0, 4.0, 3.0, 40.0, 20.0, 14.0, 21.0, 9.0, 10.0, 30.0, 16.0, 1.0, 20.0, 4.0, 22.0, 13.0, 33.0, 17.0, 7.0]}, {\"colorbar\": {\"title\": {\"text\": \"# Sightings\"}}, \"colorscale\": [[0.0, \"#ffffff\"], [0.2, \"#b4a8ce\"], [0.4, \"#8573a9\"], [0.6, \"#7159a3\"], [0.8, \"#5732a1\"], [1.0, \"#2c0579\"]], \"locationmode\": \"USA-states\", \"locations\": [\"AR\", \"DC\", \"DE\", \"FL\", \"GA\", \"HI\", \"IA\", \"KS\", \"KY\", \"LA\", \"MD\", \"MN\", \"MS\", \"MT\", \"NC\", \"NJ\", \"OK\", \"OR\", \"PA\", \"SC\", \"SD\", \"TN\", \"TX\", \"VA\", \"WI\", \"WV\"], \"type\": \"choropleth\", \"z\": [12.0, 1.0, 1.0, 44.0, 20.0, 1.0, 27.0, 13.0, 20.0, 63.0, 20.0, 10.0, 29.0, 6.0, 50.0, 17.0, 8.0, 2.0, 27.0, 26.0, 26.0, 1.0, 145.0, 40.0, 19.0, 18.0]}, {\"colorbar\": {\"title\": {\"text\": \"# Sightings\"}}, \"colorscale\": [[0.0, \"#ffffff\"], [0.2, \"#b4a8ce\"], [0.4, \"#8573a9\"], [0.6, \"#7159a3\"], [0.8, \"#5732a1\"], [1.0, \"#2c0579\"]], \"locationmode\": \"USA-states\", \"locations\": [\"CA\", \"GA\", \"LA\", \"MS\", \"OK\"], \"type\": \"choropleth\", \"z\": [35.0, 28.0, 2.0, 4.0, 10.0]}],                        {\"geo\": {\"projection\": {\"type\": \"albers usa\"}, \"scope\": \"usa\"}, \"sliders\": [{\"active\": 0, \"pad\": {\"t\": 1}, \"steps\": [{\"args\": [\"visible\", [true, false, false, false, false, false, false, false]], \"label\": \"Year 2009\", \"method\": \"restyle\"}, {\"args\": [\"visible\", [false, true, false, false, false, false, false, false]], \"label\": \"Year 2010\", \"method\": \"restyle\"}, {\"args\": [\"visible\", [false, false, true, false, false, false, false, false]], \"label\": \"Year 2011\", \"method\": \"restyle\"}, {\"args\": [\"visible\", [false, false, false, true, false, false, false, false]], \"label\": \"Year 2012\", \"method\": \"restyle\"}, {\"args\": [\"visible\", [false, false, false, false, true, false, false, false]], \"label\": \"Year 2013\", \"method\": \"restyle\"}, {\"args\": [\"visible\", [false, false, false, false, false, true, false, false]], \"label\": \"Year 2014\", \"method\": \"restyle\"}, {\"args\": [\"visible\", [false, false, false, false, false, false, true, false]], \"label\": \"Year 2015\", \"method\": \"restyle\"}, {\"args\": [\"visible\", [false, false, false, false, false, false, false, true]], \"label\": \"Year 2016\", \"method\": \"restyle\"}]}], \"template\": {\"data\": {\"bar\": [{\"error_x\": {\"color\": \"#2a3f5f\"}, \"error_y\": {\"color\": \"#2a3f5f\"}, \"marker\": {\"line\": {\"color\": \"#E5ECF6\", \"width\": 0.5}}, \"type\": \"bar\"}], \"barpolar\": [{\"marker\": {\"line\": {\"color\": \"#E5ECF6\", \"width\": 0.5}}, \"type\": \"barpolar\"}], \"carpet\": [{\"aaxis\": {\"endlinecolor\": \"#2a3f5f\", \"gridcolor\": \"white\", \"linecolor\": \"white\", \"minorgridcolor\": \"white\", \"startlinecolor\": \"#2a3f5f\"}, \"baxis\": {\"endlinecolor\": \"#2a3f5f\", \"gridcolor\": \"white\", \"linecolor\": \"white\", \"minorgridcolor\": \"white\", \"startlinecolor\": \"#2a3f5f\"}, \"type\": \"carpet\"}], \"choropleth\": [{\"colorbar\": {\"outlinewidth\": 0, \"ticks\": \"\"}, \"type\": \"choropleth\"}], \"contour\": [{\"colorbar\": {\"outlinewidth\": 0, \"ticks\": \"\"}, \"colorscale\": [[0.0, \"#0d0887\"], [0.1111111111111111, \"#46039f\"], [0.2222222222222222, \"#7201a8\"], [0.3333333333333333, \"#9c179e\"], [0.4444444444444444, \"#bd3786\"], [0.5555555555555556, \"#d8576b\"], [0.6666666666666666, \"#ed7953\"], [0.7777777777777778, \"#fb9f3a\"], [0.8888888888888888, \"#fdca26\"], [1.0, \"#f0f921\"]], \"type\": \"contour\"}], \"contourcarpet\": [{\"colorbar\": {\"outlinewidth\": 0, \"ticks\": \"\"}, \"type\": \"contourcarpet\"}], \"heatmap\": [{\"colorbar\": {\"outlinewidth\": 0, \"ticks\": \"\"}, \"colorscale\": [[0.0, \"#0d0887\"], [0.1111111111111111, \"#46039f\"], [0.2222222222222222, \"#7201a8\"], [0.3333333333333333, \"#9c179e\"], [0.4444444444444444, \"#bd3786\"], [0.5555555555555556, \"#d8576b\"], [0.6666666666666666, \"#ed7953\"], [0.7777777777777778, \"#fb9f3a\"], [0.8888888888888888, \"#fdca26\"], [1.0, \"#f0f921\"]], \"type\": \"heatmap\"}], \"heatmapgl\": [{\"colorbar\": {\"outlinewidth\": 0, \"ticks\": \"\"}, \"colorscale\": [[0.0, \"#0d0887\"], [0.1111111111111111, \"#46039f\"], [0.2222222222222222, \"#7201a8\"], [0.3333333333333333, \"#9c179e\"], [0.4444444444444444, \"#bd3786\"], [0.5555555555555556, \"#d8576b\"], [0.6666666666666666, \"#ed7953\"], [0.7777777777777778, \"#fb9f3a\"], [0.8888888888888888, \"#fdca26\"], [1.0, \"#f0f921\"]], \"type\": \"heatmapgl\"}], \"histogram\": [{\"marker\": {\"colorbar\": {\"outlinewidth\": 0, \"ticks\": \"\"}}, \"type\": \"histogram\"}], \"histogram2d\": [{\"colorbar\": {\"outlinewidth\": 0, \"ticks\": \"\"}, \"colorscale\": [[0.0, \"#0d0887\"], [0.1111111111111111, \"#46039f\"], [0.2222222222222222, \"#7201a8\"], [0.3333333333333333, \"#9c179e\"], [0.4444444444444444, \"#bd3786\"], [0.5555555555555556, \"#d8576b\"], [0.6666666666666666, \"#ed7953\"], [0.7777777777777778, \"#fb9f3a\"], [0.8888888888888888, \"#fdca26\"], [1.0, \"#f0f921\"]], \"type\": \"histogram2d\"}], \"histogram2dcontour\": [{\"colorbar\": {\"outlinewidth\": 0, \"ticks\": \"\"}, \"colorscale\": [[0.0, \"#0d0887\"], [0.1111111111111111, \"#46039f\"], [0.2222222222222222, \"#7201a8\"], [0.3333333333333333, \"#9c179e\"], [0.4444444444444444, \"#bd3786\"], [0.5555555555555556, \"#d8576b\"], [0.6666666666666666, \"#ed7953\"], [0.7777777777777778, \"#fb9f3a\"], [0.8888888888888888, \"#fdca26\"], [1.0, \"#f0f921\"]], \"type\": \"histogram2dcontour\"}], \"mesh3d\": [{\"colorbar\": {\"outlinewidth\": 0, \"ticks\": \"\"}, \"type\": \"mesh3d\"}], \"parcoords\": [{\"line\": {\"colorbar\": {\"outlinewidth\": 0, \"ticks\": \"\"}}, \"type\": \"parcoords\"}], \"pie\": [{\"automargin\": true, \"type\": \"pie\"}], \"scatter\": [{\"marker\": {\"colorbar\": {\"outlinewidth\": 0, \"ticks\": \"\"}}, \"type\": \"scatter\"}], \"scatter3d\": [{\"line\": {\"colorbar\": {\"outlinewidth\": 0, \"ticks\": \"\"}}, \"marker\": {\"colorbar\": {\"outlinewidth\": 0, \"ticks\": \"\"}}, \"type\": \"scatter3d\"}], \"scattercarpet\": [{\"marker\": {\"colorbar\": {\"outlinewidth\": 0, \"ticks\": \"\"}}, \"type\": \"scattercarpet\"}], \"scattergeo\": [{\"marker\": {\"colorbar\": {\"outlinewidth\": 0, \"ticks\": \"\"}}, \"type\": \"scattergeo\"}], \"scattergl\": [{\"marker\": {\"colorbar\": {\"outlinewidth\": 0, \"ticks\": \"\"}}, \"type\": \"scattergl\"}], \"scattermapbox\": [{\"marker\": {\"colorbar\": {\"outlinewidth\": 0, \"ticks\": \"\"}}, \"type\": \"scattermapbox\"}], \"scatterpolar\": [{\"marker\": {\"colorbar\": {\"outlinewidth\": 0, \"ticks\": \"\"}}, \"type\": \"scatterpolar\"}], \"scatterpolargl\": [{\"marker\": {\"colorbar\": {\"outlinewidth\": 0, \"ticks\": \"\"}}, \"type\": \"scatterpolargl\"}], \"scatterternary\": [{\"marker\": {\"colorbar\": {\"outlinewidth\": 0, \"ticks\": \"\"}}, \"type\": \"scatterternary\"}], \"surface\": [{\"colorbar\": {\"outlinewidth\": 0, \"ticks\": \"\"}, \"colorscale\": [[0.0, \"#0d0887\"], [0.1111111111111111, \"#46039f\"], [0.2222222222222222, \"#7201a8\"], [0.3333333333333333, \"#9c179e\"], [0.4444444444444444, \"#bd3786\"], [0.5555555555555556, \"#d8576b\"], [0.6666666666666666, \"#ed7953\"], [0.7777777777777778, \"#fb9f3a\"], [0.8888888888888888, \"#fdca26\"], [1.0, \"#f0f921\"]], \"type\": \"surface\"}], \"table\": [{\"cells\": {\"fill\": {\"color\": \"#EBF0F8\"}, \"line\": {\"color\": \"white\"}}, \"header\": {\"fill\": {\"color\": \"#C8D4E3\"}, \"line\": {\"color\": \"white\"}}, \"type\": \"table\"}]}, \"layout\": {\"annotationdefaults\": {\"arrowcolor\": \"#2a3f5f\", \"arrowhead\": 0, \"arrowwidth\": 1}, \"autotypenumbers\": \"strict\", \"coloraxis\": {\"colorbar\": {\"outlinewidth\": 0, \"ticks\": \"\"}}, \"colorscale\": {\"diverging\": [[0, \"#8e0152\"], [0.1, \"#c51b7d\"], [0.2, \"#de77ae\"], [0.3, \"#f1b6da\"], [0.4, \"#fde0ef\"], [0.5, \"#f7f7f7\"], [0.6, \"#e6f5d0\"], [0.7, \"#b8e186\"], [0.8, \"#7fbc41\"], [0.9, \"#4d9221\"], [1, \"#276419\"]], \"sequential\": [[0.0, \"#0d0887\"], [0.1111111111111111, \"#46039f\"], [0.2222222222222222, \"#7201a8\"], [0.3333333333333333, \"#9c179e\"], [0.4444444444444444, \"#bd3786\"], [0.5555555555555556, \"#d8576b\"], [0.6666666666666666, \"#ed7953\"], [0.7777777777777778, \"#fb9f3a\"], [0.8888888888888888, \"#fdca26\"], [1.0, \"#f0f921\"]], \"sequentialminus\": [[0.0, \"#0d0887\"], [0.1111111111111111, \"#46039f\"], [0.2222222222222222, \"#7201a8\"], [0.3333333333333333, \"#9c179e\"], [0.4444444444444444, \"#bd3786\"], [0.5555555555555556, \"#d8576b\"], [0.6666666666666666, \"#ed7953\"], [0.7777777777777778, \"#fb9f3a\"], [0.8888888888888888, \"#fdca26\"], [1.0, \"#f0f921\"]]}, \"colorway\": [\"#636efa\", \"#EF553B\", \"#00cc96\", \"#ab63fa\", \"#FFA15A\", \"#19d3f3\", \"#FF6692\", \"#B6E880\", \"#FF97FF\", \"#FECB52\"], \"font\": {\"color\": \"#2a3f5f\"}, \"geo\": {\"bgcolor\": \"white\", \"lakecolor\": \"white\", \"landcolor\": \"#E5ECF6\", \"showlakes\": true, \"showland\": true, \"subunitcolor\": \"white\"}, \"hoverlabel\": {\"align\": \"left\"}, \"hovermode\": \"closest\", \"mapbox\": {\"style\": \"light\"}, \"paper_bgcolor\": \"white\", \"plot_bgcolor\": \"#E5ECF6\", \"polar\": {\"angularaxis\": {\"gridcolor\": \"white\", \"linecolor\": \"white\", \"ticks\": \"\"}, \"bgcolor\": \"#E5ECF6\", \"radialaxis\": {\"gridcolor\": \"white\", \"linecolor\": \"white\", \"ticks\": \"\"}}, \"scene\": {\"xaxis\": {\"backgroundcolor\": \"#E5ECF6\", \"gridcolor\": \"white\", \"gridwidth\": 2, \"linecolor\": \"white\", \"showbackground\": true, \"ticks\": \"\", \"zerolinecolor\": \"white\"}, \"yaxis\": {\"backgroundcolor\": \"#E5ECF6\", \"gridcolor\": \"white\", \"gridwidth\": 2, \"linecolor\": \"white\", \"showbackground\": true, \"ticks\": \"\", \"zerolinecolor\": \"white\"}, \"zaxis\": {\"backgroundcolor\": \"#E5ECF6\", \"gridcolor\": \"white\", \"gridwidth\": 2, \"linecolor\": \"white\", \"showbackground\": true, \"ticks\": \"\", \"zerolinecolor\": \"white\"}}, \"shapedefaults\": {\"line\": {\"color\": \"#2a3f5f\"}}, \"ternary\": {\"aaxis\": {\"gridcolor\": \"white\", \"linecolor\": \"white\", \"ticks\": \"\"}, \"baxis\": {\"gridcolor\": \"white\", \"linecolor\": \"white\", \"ticks\": \"\"}, \"bgcolor\": \"#E5ECF6\", \"caxis\": {\"gridcolor\": \"white\", \"linecolor\": \"white\", \"ticks\": \"\"}}, \"title\": {\"x\": 0.05}, \"xaxis\": {\"automargin\": true, \"gridcolor\": \"white\", \"linecolor\": \"white\", \"ticks\": \"\", \"title\": {\"standoff\": 15}, \"zerolinecolor\": \"white\", \"zerolinewidth\": 2}, \"yaxis\": {\"automargin\": true, \"gridcolor\": \"white\", \"linecolor\": \"white\", \"ticks\": \"\", \"title\": {\"standoff\": 15}, \"zerolinecolor\": \"white\", \"zerolinewidth\": 2}}}, \"title\": {\"text\": \"State Weather since 2010\"}},                        {\"responsive\": true}                    ).then(function(){\n",
       "                            \n",
       "var gd = document.getElementById('f87eec5a-ae8c-4aad-9967-6267ad82f7dc');\n",
       "var x = new MutationObserver(function (mutations, observer) {{\n",
       "        var display = window.getComputedStyle(gd).display;\n",
       "        if (!display || display === 'none') {{\n",
       "            console.log([gd, 'removed!']);\n",
       "            Plotly.purge(gd);\n",
       "            observer.disconnect();\n",
       "        }}\n",
       "}});\n",
       "\n",
       "// Listen for the removal of the full notebook cells\n",
       "var notebookContainer = gd.closest('#notebook-container');\n",
       "if (notebookContainer) {{\n",
       "    x.observe(notebookContainer, {childList: true});\n",
       "}}\n",
       "\n",
       "// Listen for the clearing of the current output cell\n",
       "var outputEl = gd.closest('.output');\n",
       "if (outputEl) {{\n",
       "    x.observe(outputEl, {childList: true});\n",
       "}}\n",
       "\n",
       "                        })                };                });            </script>        </div>"
      ]
     },
     "metadata": {},
     "output_type": "display_data"
    }
   ],
   "source": [
    "year = 2010\n",
    "data_slider = []\n",
    "for year in x['year start'].unique():\n",
    "    df_segmented =  x[(x['year start']== year)]\n",
    "\n",
    "    for col in df_segmented.columns:\n",
    "        df_segmented[col] = df_segmented[col].astype(str)\n",
    "\n",
    "    data_each_yr = dict(\n",
    "                        type='choropleth',\n",
    "                        locations = df_segmented['State'],\n",
    "                        z=df_segmented['Disaster Type'].astype(float),\n",
    "                        locationmode='USA-states',\n",
    "                        colorscale = scl,\n",
    "                        colorbar= {'title':'# Sightings'})\n",
    "\n",
    "    data_slider.append(data_each_yr)\n",
    "\n",
    "steps = []\n",
    "for i in range(len(data_slider)):\n",
    "    step = dict(method='restyle',\n",
    "                args=['visible', [False] * len(data_slider)],\n",
    "                label='Year {}'.format(i + 2010))\n",
    "    step['args'][1][i] = True\n",
    "    steps.append(step)\n",
    "\n",
    "sliders = [dict(active=0, pad={\"t\": 1}, steps=steps)]\n",
    "\n",
    "layout = dict(title ='State Weather since 2010', geo=dict(scope='usa',\n",
    "                       projection={'type': 'albers usa'}),\n",
    "              sliders=sliders)\n",
    "\n",
    "fig = dict(data=data_slider, layout=layout)\n",
    "plotly.offline.iplot(fig)\n"
   ]
  },
  {
   "cell_type": "code",
   "execution_count": null,
   "metadata": {},
   "outputs": [],
   "source": []
  },
  {
   "cell_type": "code",
   "execution_count": null,
   "metadata": {},
   "outputs": [],
   "source": []
  }
 ],
 "metadata": {
  "kernelspec": {
   "display_name": "Python 3",
   "language": "python",
   "name": "python3"
  },
  "language_info": {
   "codemirror_mode": {
    "name": "ipython",
    "version": 3
   },
   "file_extension": ".py",
   "mimetype": "text/x-python",
   "name": "python",
   "nbconvert_exporter": "python",
   "pygments_lexer": "ipython3",
   "version": "3.8.5"
  }
 },
 "nbformat": 4,
 "nbformat_minor": 4
}
