{
 "cells": [
  {
   "cell_type": "code",
   "execution_count": 1,
   "metadata": {},
   "outputs": [],
   "source": [
    "import pandas as pd\n",
    "import os\n",
    "import csv\n",
    "import glob"
   ]
  },
  {
   "cell_type": "code",
   "execution_count": 2,
   "metadata": {},
   "outputs": [
    {
     "name": "stdout",
     "output_type": "stream",
     "text": [
      "Raw Data\\average_price_by_state_rawdata\\*.csv\n"
     ]
    }
   ],
   "source": [
    "file_location = os.path.join('Raw Data','average_price_by_state_rawdata','*.csv')\n",
    "print(file_location)"
   ]
  },
  {
   "cell_type": "code",
   "execution_count": 3,
   "metadata": {},
   "outputs": [
    {
     "name": "stdout",
     "output_type": "stream",
     "text": [
      "['Raw Data\\\\average_price_by_state_rawdata\\\\State_bdrmcnt1_rawdata.csv', 'Raw Data\\\\average_price_by_state_rawdata\\\\State_bdrmcnt2_rawdata.csv', 'Raw Data\\\\average_price_by_state_rawdata\\\\State_bdrmcnt3_rawdata.csv', 'Raw Data\\\\average_price_by_state_rawdata\\\\State_bdrmcnt4_rawdata.csv', 'Raw Data\\\\average_price_by_state_rawdata\\\\State_bdrmcnt5_rawdata.csv', 'Raw Data\\\\average_price_by_state_rawdata\\\\State_condo_rawdata.csv']\n"
     ]
    }
   ],
   "source": [
    "filenames = glob.glob(file_location)\n",
    "print(filenames)"
   ]
  },
  {
   "cell_type": "code",
   "execution_count": 4,
   "metadata": {},
   "outputs": [],
   "source": [
    "def create_df(raw_data,df_name):\n",
    "    filtered_df = raw_data.loc[:,[\"State\",\"CountyName\"]]\n",
    "    filtered_df[\"Housing Type\"] = df_name\n",
    "    \n",
    "    year_list = [2010,2011,2012,2013,2014,2015,2016,2017,2018,2019,2020]\n",
    "    for year in year_list:\n",
    "        sample_df = raw_data.filter(like=str(year), axis=1)\n",
    "        filtered_df[year] = sample_df.mean(axis=1)\n",
    "\n",
    "        pd.options.display.float_format = '{:.2f}'.format\n",
    "    \n",
    "    clean_df = filtered_df.dropna(how ='any')\n",
    "    return clean_df"
   ]
  },
  {
   "cell_type": "code",
   "execution_count": 5,
   "metadata": {},
   "outputs": [
    {
     "name": "stdout",
     "output_type": "stream",
     "text": [
      "rawdata_0_df\n",
      "Data_1_bed\n",
      "rawdata_1_df\n",
      "Data_2_bed\n",
      "rawdata_2_df\n",
      "Data_3_bed\n",
      "rawdata_3_df\n",
      "Data_4_bed\n",
      "rawdata_4_df\n",
      "Data_5_bed\n",
      "rawdata_5_df\n",
      "Data_condo\n"
     ]
    }
   ],
   "source": [
    "count = 0\n",
    "name_list = [\"Data_1_bed\",\"Data_2_bed\",\"Data_3_bed\",\"Data_4_bed\",\"Data_5_bed\",\"Data_condo\"]\n",
    "\n",
    "#Dataframe to store individual housing data\n",
    "data = {}\n",
    "\n",
    "for file in filenames:\n",
    "    raw_data =  f'rawdata_{str(count)}_df'\n",
    "    print(raw_data)\n",
    "    raw_data = pd.read_csv(file)\n",
    "    \n",
    "    #Give a name to dataframe dynamically   \n",
    "    df_name = f'{name_list[count]}'\n",
    "    #Calling function to extract required columns\n",
    "    exec('df = create_df(raw_data,df_name)')\n",
    "    \n",
    "    #Write individual housing type output to *.csv file   \n",
    "    output_file = os.path.join('Clean Data','Housing data by values',df_name+'.csv')\n",
    "    df.to_csv(output_file)\n",
    "    print(df_name)          \n",
    "    \n",
    "    #Adding to dataframe for later use\n",
    "    data[df_name]=(df)\n",
    "    \n",
    "    #Increment counter to pick next raw data file\n",
    "    count += 1\n"
   ]
  },
  {
   "cell_type": "code",
   "execution_count": 6,
   "metadata": {},
   "outputs": [],
   "source": [
    "#Saving the dictionary with cleaned data into excel sheet\n",
    "excel_file = os.path.join('Clean Data','Housing data by values','final_cleaned_data.xls')\n",
    "writer = pd.ExcelWriter(excel_file, engine='xlsxwriter')\n",
    "\n",
    "#now loop thru and put each on a specific sheet\n",
    "for sheet, frame in  data.items(): \n",
    "    frame.to_excel(writer, sheet_name = sheet,index = False)\n",
    "\n",
    "writer.save()"
   ]
  },
  {
   "cell_type": "code",
   "execution_count": 7,
   "metadata": {},
   "outputs": [],
   "source": [
    "cleaned_merged_file = os.path.join('Clean Data','Housing data by values','Housing_data_clean_merged.csv')\n",
    "merged_df = pd.read_excel(excel_file, sheet_name=None)\n",
    "xlsx = pd.ExcelFile(excel_file)\n",
    "data_sheets = []\n",
    "for sheet in xlsx.sheet_names:\n",
    "    data_sheets.append(xlsx.parse(sheet))\n",
    "    House_merged_clean = pd.concat(data_sheets)\n",
    "\n",
    "House_merged_clean.to_csv(cleaned_merged_file, encoding='utf-8', index=False,header = True)  "
   ]
  }
 ],
 "metadata": {
  "kernelspec": {
   "display_name": "Python 3",
   "language": "python",
   "name": "python3"
  },
  "language_info": {
   "codemirror_mode": {
    "name": "ipython",
    "version": 3
   },
   "file_extension": ".py",
   "mimetype": "text/x-python",
   "name": "python",
   "nbconvert_exporter": "python",
   "pygments_lexer": "ipython3",
   "version": "3.8.5"
  }
 },
 "nbformat": 4,
 "nbformat_minor": 4
}
