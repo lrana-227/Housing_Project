{
 "cells": [
  {
   "cell_type": "code",
   "execution_count": null,
   "metadata": {},
   "outputs": [],
   "source": [
    "import pandas as pd\n",
    "import os\n",
    "import csv\n",
    "import glob"
   ]
  },
  {
   "cell_type": "code",
   "execution_count": null,
   "metadata": {},
   "outputs": [],
   "source": [
    "file_location = os.path.join('Raw Data','*.csv')\n",
    "print(file_location)\n",
    "\n",
    "filenames = glob.glob(file_location)\n",
    "print(filenames)"
   ]
  },
  {
   "cell_type": "code",
   "execution_count": null,
   "metadata": {},
   "outputs": [],
   "source": [
    "input_file = os.path.join('Raw Data','Property tax data','2015-2020','20taxes.xls')\n",
    "print(input_file)\n",
    "df = pd.read_excel(input_file,sheet_name = 'Citizens Tax Summary',skiprows = [0], usecols = \"B:T\")\n",
    "\n",
    "df.head()"
   ]
  },
  {
   "cell_type": "code",
   "execution_count": null,
   "metadata": {},
   "outputs": [],
   "source": [
    "raw_tax_data1 = f'sample1.xls'\n",
    "filtered_tax_df1 = df[['Municipality','County','County Share','School Share','Municipal Share','County Rate','Average Residential Property Value']]\n",
    "\n",
    "cleaned_df1 = filtered_tax_df1.dropna(how ='any')\n",
    "cleaned_df1\n",
    "output_file1 = os.path.join('Clean Data','Property tax data',raw_tax_data1)\n",
    "cleaned_df1.to_excel(output_file1)\n",
    "print(output_file1)    "
   ]
  },
  {
   "cell_type": "code",
   "execution_count": null,
   "metadata": {},
   "outputs": [],
   "source": [
    "tax_file_location = os.path.join('Raw Data','Property tax data','2015-2020','*.xls')\n",
    "print(tax_file_location)\n",
    "tax_files_part2 = glob.glob(tax_file_location)\n",
    "print(tax_files_part2)"
   ]
  },
  {
   "cell_type": "code",
   "execution_count": null,
   "metadata": {},
   "outputs": [],
   "source": [
    "count = 1\n",
    "for file in tax_files_part2:\n",
    "    \n",
    "    raw_tax_data =  f'raw_tax_data{str(count)}_df'\n",
    "    output_data = f'{raw_tax_data}.csv'\n",
    "    print(raw_tax_data)\n",
    "    raw_tax_data = pd.read_excel(file,sheet_name = 'Citizens Tax Summary',skiprows = [0], usecols = \"B:T\")\n",
    "    \n",
    "    filtered_tax_df =  f'filtered_tax{str(count)}_df'\n",
    "    print(filtered_tax_df)\n",
    "    filtered_tax_df = raw_tax_data[['Municipality','County','County Share','School Share','Municipal Share','County Rate','Average Residential Property Value']]\n",
    "\n",
    "    cleaned_df = filtered_tax_df.dropna(how ='any')\n",
    "    pd.options.display.float_format = '{:.2f}'.format\n",
    "    \n",
    "    output_file = os.path.join('Clean Data','Property tax data',output_data)\n",
    "    cleaned_df.to_csv(output_file)\n",
    "    print(output_file)        \n",
    "    \n",
    "    cleaned_df.head()\n",
    "    count += 1 "
   ]
  }
 ],
 "metadata": {
  "kernelspec": {
   "display_name": "Python 3",
   "language": "python",
   "name": "python3"
  },
  "language_info": {
   "codemirror_mode": {
    "name": "ipython",
    "version": 3
   },
   "file_extension": ".py",
   "mimetype": "text/x-python",
   "name": "python",
   "nbconvert_exporter": "python",
   "pygments_lexer": "ipython3",
   "version": "3.8.5"
  }
 },
 "nbformat": 4,
 "nbformat_minor": 4
}
