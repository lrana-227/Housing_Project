{
 "cells": [
  {
   "cell_type": "code",
   "execution_count": 1,
   "metadata": {},
   "outputs": [],
   "source": [
    "import pandas as pd\n",
    "import os\n",
    "import csv\n",
    "import glob\n",
    "import re"
   ]
  },
  {
   "cell_type": "code",
   "execution_count": 2,
   "metadata": {},
   "outputs": [
    {
     "name": "stdout",
     "output_type": "stream",
     "text": [
      "Raw Data\\Property tax data\\2010-2014\\*.xls\n",
      "['Raw Data\\\\Property tax data\\\\2010-2014\\\\10taxes.xls', 'Raw Data\\\\Property tax data\\\\2010-2014\\\\11taxes.xls', 'Raw Data\\\\Property tax data\\\\2010-2014\\\\12taxes.xls', 'Raw Data\\\\Property tax data\\\\2010-2014\\\\13taxes.xls', 'Raw Data\\\\Property tax data\\\\2010-2014\\\\14taxes.xls']\n"
     ]
    }
   ],
   "source": [
    "tax_file_location1 = os.path.join('Raw Data','Property tax data','2010-2014','*.xls')\n",
    "print(tax_file_location1)\n",
    "tax_files_part1 = glob.glob(tax_file_location1)\n",
    "print(tax_files_part1)"
   ]
  },
  {
   "cell_type": "code",
   "execution_count": 3,
   "metadata": {},
   "outputs": [
    {
     "name": "stdout",
     "output_type": "stream",
     "text": [
      "raw_tax_data11_df\n",
      "Clean Data\\Property tax data\\reqData_10taxes.csv\n",
      "raw_tax_data12_df\n",
      "Clean Data\\Property tax data\\reqData_11taxes.csv\n",
      "raw_tax_data13_df\n",
      "Clean Data\\Property tax data\\reqData_12taxes.csv\n",
      "raw_tax_data14_df\n",
      "Clean Data\\Property tax data\\reqData_13taxes.csv\n",
      "raw_tax_data15_df\n",
      "Clean Data\\Property tax data\\reqData_14taxes.csv\n",
      "Required columns from raw data file has been extracted!\n"
     ]
    }
   ],
   "source": [
    "#2010 to 2014 tax data cleaning\n",
    "count1 = 1\n",
    "for file1 in tax_files_part1:\n",
    "    \n",
    "    #picking name dynamincally\n",
    "    raw_tax_data1 =  f'raw_tax_data1{str(count1)}_df'\n",
    "    print(raw_tax_data1)\n",
    "    \n",
    "    #Read input file into dataframe\n",
    "    raw_tax_data1 = pd.read_excel(file1)\n",
    "    \n",
    "    #Extract required columns\n",
    "    filtered_tax1_df =  f'filtered_tax1{str(count1)}_df'\n",
    "    filtered_tax1_df = raw_tax_data1.loc[:,('MUNICIPALITY','COUNTY','CY County Rate','CY School Rate',\n",
    "                                            'CY Total Municipal Rate','CY Total Rate','Average Residential Property Value')]\n",
    "    \n",
    "    output_filename1 = os.path.splitext(os.path.basename(file1))[0]\n",
    "    year1 = re.findall(\"\\d+\", output_filename1)[0]\n",
    "    filtered_tax1_df['Year'] = f'20{year1}'\n",
    "    \n",
    "    filtered_tax1_df = filtered_tax1_df.rename(columns={\"MUNICIPALITY\":\"Municipality\", \"COUNTY\":\"County\",\n",
    "                                                       \"CY County Rate\":\"County Rate Share\",\n",
    "                                                 \"CY School Rate\":\"School Rate Share\",\n",
    "                                                 \"CY Total Municipal Rate\":\"Municipal Rate Share\",\n",
    "                                                 \"CY Total Rate\":\"Total County Rate\",\n",
    "                                                 \"Average Residential Property Value\":\"Avg Property value(in $)\"})\n",
    "    \n",
    "    #Formatting tax rates to 2 decimal places\n",
    "    filtered_tax1_df['County Rate Share'] = filtered_tax1_df['County Rate Share'].map(\"{:.2f}\".format)\n",
    "    filtered_tax1_df['School Rate Share'] = filtered_tax1_df['School Rate Share'].map(\"{:.2f}\".format)\n",
    "    filtered_tax1_df['Municipal Rate Share'] = filtered_tax1_df['Municipal Rate Share'].map(\"{:.2f}\".format)\n",
    "    filtered_tax1_df['Total County Rate'] = filtered_tax1_df['Total County Rate'].map(\"{:.2f}\".format)\n",
    "    filtered_tax1_df['Avg Property value(in $)'] = filtered_tax1_df['Avg Property value(in $)'].map(\"{:.2f}\".format)\n",
    "    \n",
    "   \n",
    "    #dropping null values\n",
    "    cleaned1_df = filtered_tax1_df.dropna(how ='any')\n",
    "    \n",
    "    #o/p file name & path\n",
    "   \n",
    "    output_file1 = os.path.join('Clean Data','Property tax data','reqData_'+output_filename1+'.csv')\n",
    "    \n",
    "    #write the formatted data into csv file\n",
    "    cleaned1_df.to_csv(output_file1,index=False)\n",
    "    print(output_file1)        \n",
    "    \n",
    "    count1 += 1 \n",
    "\n",
    "print(\"Required columns from raw data file has been extracted!\")"
   ]
  },
  {
   "cell_type": "code",
   "execution_count": 4,
   "metadata": {},
   "outputs": [
    {
     "name": "stdout",
     "output_type": "stream",
     "text": [
      "Raw Data\\Property tax data\\2015-2020\\*.xls\n",
      "['Raw Data\\\\Property tax data\\\\2015-2020\\\\15taxes.xls', 'Raw Data\\\\Property tax data\\\\2015-2020\\\\16taxes.xls', 'Raw Data\\\\Property tax data\\\\2015-2020\\\\17taxes.xls', 'Raw Data\\\\Property tax data\\\\2015-2020\\\\18taxes.xls', 'Raw Data\\\\Property tax data\\\\2015-2020\\\\19taxes.xls', 'Raw Data\\\\Property tax data\\\\2015-2020\\\\20taxes.xls']\n"
     ]
    }
   ],
   "source": [
    "tax_file_location2 = os.path.join('Raw Data','Property tax data','2015-2020','*.xls')\n",
    "print(tax_file_location2)\n",
    "tax_files_part2 = glob.glob(tax_file_location2)\n",
    "print(tax_files_part2)"
   ]
  },
  {
   "cell_type": "code",
   "execution_count": 5,
   "metadata": {},
   "outputs": [
    {
     "name": "stdout",
     "output_type": "stream",
     "text": [
      "raw_tax_data1_df\n",
      "Clean Data\\Property tax data\\reqData_15taxes.csv\n",
      "raw_tax_data2_df\n",
      "Clean Data\\Property tax data\\reqData_16taxes.csv\n",
      "raw_tax_data3_df\n",
      "Clean Data\\Property tax data\\reqData_17taxes.csv\n",
      "raw_tax_data4_df\n",
      "Clean Data\\Property tax data\\reqData_18taxes.csv\n",
      "raw_tax_data5_df\n",
      "Clean Data\\Property tax data\\reqData_19taxes.csv\n",
      "raw_tax_data6_df\n",
      "Clean Data\\Property tax data\\reqData_20taxes.csv\n",
      "Required columns from raw data file has been extracted!\n"
     ]
    }
   ],
   "source": [
    "\n",
    "count = 1\n",
    "for file in tax_files_part2:\n",
    "    \n",
    "    #picking name dynamincally\n",
    "    raw_tax_data =  f'raw_tax_data{str(count)}_df'\n",
    "    print(raw_tax_data)\n",
    "    \n",
    "    #Read input file into dataframe\n",
    "    raw_tax_data = pd.read_excel(file,sheet_name = 'Citizens Tax Summary',skiprows = [0], usecols = \"B:T\")\n",
    "    \n",
    "    #Extract required columns\n",
    "    filtered_tax_df =  f'filtered_tax{str(count)}_df'\n",
    "    filtered_tax_df = raw_tax_data.loc[:,('Municipality','County','County Rate',\n",
    "                                          'School Rate','Municipal Rate','Total Rate','Average Residential Property Value')]\n",
    "    \n",
    "    output_filename = os.path.splitext(os.path.basename(file))[0]\n",
    "    year = re.findall(\"\\d+\", output_filename)[0]\n",
    "    filtered_tax_df['Year'] = f'20{year}'\n",
    "    \n",
    "    #Formatting tax rates to 2 decimal places\n",
    "    filtered_tax_df['County Rate'] = filtered_tax_df['County Rate'].map(\"{:.2f}\".format)\n",
    "    filtered_tax_df['School Rate'] = filtered_tax_df['School Rate'].map(\"{:.2f}\".format)\n",
    "    filtered_tax_df['Municipal Rate'] = filtered_tax_df['Municipal Rate'].map(\"{:.2f}\".format)\n",
    "    filtered_tax_df['Total Rate'] = filtered_tax_df['Total Rate'].map(\"{:.2f}\".format)\n",
    "    filtered_tax_df['Average Residential Property Value'] = filtered_tax_df['Average Residential Property Value'].map(\"{:.2f}\".format)\n",
    "    \n",
    "    filtered_tax_df = filtered_tax_df.rename(columns={\"County Rate\":\"County Rate Share\",\n",
    "                                                 \"School Rate\":\"School Rate Share\",\n",
    "                                                 \"Municipal Rate\":\"Municipal Rate Share\",\n",
    "                                                 \"Total Rate\":\"Total County Rate\",\n",
    "                                                 \"Average Residential Property Value\":\"Avg Property value(in $)\"})\n",
    "    \n",
    "    #dropping null values\n",
    "    cleaned_df = filtered_tax_df.dropna(how ='any')\n",
    "    \n",
    "    #o/p file path\n",
    "    output_file = os.path.join('Clean Data','Property tax data','reqData_'+output_filename+'.csv')\n",
    "    \n",
    "    #write the formatted data into csv file\n",
    "    cleaned_df.to_csv(output_file,index=False)\n",
    "    print(output_file)        \n",
    "    \n",
    "    count += 1 \n",
    "\n",
    "print(\"Required columns from raw data file has been extracted!\")"
   ]
  },
  {
   "cell_type": "code",
   "execution_count": 6,
   "metadata": {},
   "outputs": [],
   "source": [
    "file_locate = os.path.join('Clean Data','Property tax data','*.csv')\n",
    "file_extension = '.csv'\n",
    "all_filenames = [i for i in glob.glob(file_locate)]\n",
    "combined_tax_data_df = pd.concat([pd.read_csv(f) for f in all_filenames])\n",
    "#combined_tax_data_df.count()\n",
    "combined_file_tax_data = os.path.join('Clean Data','Property tax data','Combined_tax_data.csv')\n",
    "combined_tax_data_df.to_csv(combined_file_tax_data,index = False)"
   ]
  },
  {
   "cell_type": "code",
   "execution_count": null,
   "metadata": {},
   "outputs": [],
   "source": []
  }
 ],
 "metadata": {
  "kernelspec": {
   "display_name": "Python 3",
   "language": "python",
   "name": "python3"
  },
  "language_info": {
   "codemirror_mode": {
    "name": "ipython",
    "version": 3
   },
   "file_extension": ".py",
   "mimetype": "text/x-python",
   "name": "python",
   "nbconvert_exporter": "python",
   "pygments_lexer": "ipython3",
   "version": "3.8.5"
  }
 },
 "nbformat": 4,
 "nbformat_minor": 4
}
